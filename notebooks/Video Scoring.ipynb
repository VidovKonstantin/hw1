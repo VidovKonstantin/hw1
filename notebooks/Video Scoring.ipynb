{
 "cells": [
  {
   "cell_type": "code",
   "execution_count": 1,
   "id": "4b94b2e0-3796-411b-ad82-1b56e7f89e1f",
   "metadata": {},
   "outputs": [],
   "source": [
    "import pyspark\n",
    "from pyspark.sql.functions import *\n",
    "from pyspark.sql.types import *\n",
    "from pyspark.sql import SparkSession\n",
    "\n",
    "spark = SparkSession.builder.master(\"local\") \\\n",
    "    .config('spark.sql.autoBroadcastJoinThreshold', 0) \\\n",
    "    .config('spark.sql.adaptive.enabled', 'false') \\\n",
    "    .getOrCreate()"
   ]
  },
  {
   "cell_type": "code",
   "execution_count": 2,
   "id": "d2457bb0-67e5-475d-9498-c13a8fbbc4cd",
   "metadata": {},
   "outputs": [
    {
     "data": {
      "text/html": [
       "<style>pre { white-space: pre !important; }</style>"
      ],
      "text/plain": [
       "<IPython.core.display.HTML object>"
      ]
     },
     "metadata": {},
     "output_type": "display_data"
    }
   ],
   "source": [
    "# Доп. библиотеки\n",
    "import pandas as pd\n",
    "from pyspark.sql.functions import pandas_udf, PandasUDFType\n",
    "from pyspark.sql.window import Window\n",
    "from IPython.core.display import HTML\n",
    "display(HTML(\"<style>pre { white-space: pre !important; }</style>\"))"
   ]
  },
  {
   "cell_type": "code",
   "execution_count": 3,
   "id": "872ef525-57b8-4f42-85f5-d0d83bd84d05",
   "metadata": {},
   "outputs": [],
   "source": [
    "# pагрузка json справочника\n",
    "path = '../datasets/US_category_id.json'\n",
    "category = spark.read.json(path, multiLine=True)"
   ]
  },
  {
   "cell_type": "code",
   "execution_count": 4,
   "id": "8443eba3-4a99-457f-94ca-961f118eeefa",
   "metadata": {},
   "outputs": [
    {
     "name": "stdout",
     "output_type": "stream",
     "text": [
      "+-----------+----------------+\n",
      "|category_id|category_title  |\n",
      "+-----------+----------------+\n",
      "|1          |Film & Animation|\n",
      "|2          |Autos & Vehicles|\n",
      "|10         |Music           |\n",
      "+-----------+----------------+\n",
      "only showing top 3 rows\n",
      "\n"
     ]
    }
   ],
   "source": [
    "# Обработка справочника\n",
    "sdf_category_id = category.select(explode(col(\"items\").getField(\"id\")).alias(\"category_id\"))\n",
    "sdf_category_title = category.select(explode(col(\"items\").getField(\"snippet\").getField(\"title\")))\n",
    "\n",
    "w = Window().orderBy(lit(None))\n",
    "sdf_category_id = sdf_category_id.withColumn('row_num', row_number().over(w))\n",
    "sdf_category_title = sdf_category_title.withColumn('row_num', row_number().over(w))\n",
    "\n",
    "category_res = sdf_category_id.join(sdf_category_title, 'row_num').drop('row_num')\n",
    "category_res = category_res.select(\"category_id\", col(\"col\").alias(\"category_title\"))\n",
    "category_res.show(3, False)"
   ]
  },
  {
   "cell_type": "code",
   "execution_count": 5,
   "id": "1c2a19f1-09d4-433b-bb14-495e1f69bf43",
   "metadata": {},
   "outputs": [
    {
     "name": "stdout",
     "output_type": "stream",
     "text": [
      "+-----------+--------------------+--------------------+-----------+--------------------+-------+------+--------+-------------+--------------------+-----+\n",
      "|   video_id|               title|       channel_title|category_id|                tags|  views| likes|dislikes|comment_total|      thumbnail_link| date|\n",
      "+-----------+--------------------+--------------------+-----------+--------------------+-------+------+--------+-------------+--------------------+-----+\n",
      "|XpVt6Z1Gjjo|1 YEAR OF VLOGGIN...|    Logan Paul Vlogs|         24|logan paul vlog|l...|4394029|320053|    5931|        46245|https://i.ytimg.c...|13.09|\n",
      "|K4wEI5zhHB0|iPhone X — Introd...|               Apple|         28|Apple|iPhone 10|i...|7860119|185853|   26679|            0|https://i.ytimg.c...|13.09|\n",
      "|cLdxuaxaQwc|         My Response|           PewDiePie|         22|              [none]|5845909|576597|   39774|       170708|https://i.ytimg.c...|13.09|\n",
      "|WYYvHb03Eog|Apple iPhone X fi...|           The Verge|         28|apple iphone x ha...|2642103| 24975|    4542|        12829|https://i.ytimg.c...|13.09|\n",
      "|sjlHnJvXdQs|   iPhone X (parody)|          jacksfilms|         23|jacksfilms|parody...|1168130| 96666|     568|         6666|https://i.ytimg.c...|13.09|\n",
      "|cMKX2tE5Luk|The Disaster Arti...|                 A24|          1|a24|a24 films|a24...|1311445| 34507|     544|         3040|https://i.ytimg.c...|13.09|\n",
      "|8wNr-NQImFg|The Check In: HUD...|Late Night with S...|         23|Late night|Seth M...| 666169|  9985|     297|         1071|https://i.ytimg.c...|13.09|\n",
      "|_HTXMhKWqnA|iPhone X Impressi...|    Marques Brownlee|         28|iPhone X|iphone x...|1728614| 74062|    2180|        15297|https://i.ytimg.c...|13.09|\n",
      "|_ANP3HR1jsM|ATTACKED BY A POL...|    RomanAtwoodVlogs|         22|Roman Atwood|Roma...|1338533| 69687|     678|         5643|https://i.ytimg.c...|13.09|\n",
      "|zgLtEob6X-Q|Honest Trailers -...|      Screen Junkies|          1|screenjunkies|scr...|1056891| 29943|     878|         4046|https://i.ytimg.c...|13.09|\n",
      "|Ayb_2qbZHm4| Honest College Tour|        CollegeHumor|         23|Collegehumor|CH o...| 859289| 34485|     726|         1914|https://i.ytimg.c...|13.09|\n",
      "|CsdzflTXBVQ|Best Floyd Maywea...|     Awkward Puppets|         23|best floyd maywea...| 452477| 28050|     405|         2745|https://i.ytimg.c...|13.09|\n",
      "|l864IBj7cgw|Jennifer Lawrence...|The Tonight Show ...|         23|The Tonight Show|...| 258781|  8085|     303|          726|https://i.ytimg.c...|13.09|\n",
      "|4MkC65emkG4|Hand In Hand A Be...|                 MTV|         24|mtv|video|online|...| 274358|  9215|     477|          838|https://i.ytimg.c...|13.09|\n",
      "|vu_9muoxT50|Colin Cloud: Mind...|America's Got Talent|         24|America's Got Tal...| 473691| 14740|     415|         1696|https://i.ytimg.c...|13.09|\n",
      "|1L7JFN7tQLs|iPhone X Hands on...|   Jonathan Morrison|         28|Apple|iPhone X|iP...| 514972| 18936|     641|         3817|https://i.ytimg.c...|13.09|\n",
      "|ZQK1F0wz6z4|What Do You Want ...| Wong Fu Productions|         24|panda|what should...| 282858| 14870|     300|         1398|https://i.ytimg.c...|13.09|\n",
      "|T_PuZBdT2iM|getting into a co...|               ProZD|          1|skit|korean|langu...|1582683| 65749|    1531|         3598|https://i.ytimg.c...|13.09|\n",
      "|w8fAellnPns|Juicy Chicken Bre...| You Suck At Cooking|         26|how to|cooking|re...| 479951| 23945|     640|         1941|https://i.ytimg.c...|13.09|\n",
      "|UCrBICYM0yM|Downsizing (2017)...|  Paramount Pictures|          1|downsizing|previe...|2693468|  7941|     302|         1432|https://i.ytimg.c...|13.09|\n",
      "+-----------+--------------------+--------------------+-----------+--------------------+-------+------+--------+-------------+--------------------+-----+\n",
      "only showing top 20 rows\n",
      "\n"
     ]
    }
   ],
   "source": [
    "# Загрузка инфы по видео\n",
    "videos = (spark.read\n",
    "               .option('header', 'true')\n",
    "               .option(\"inferSchema\", \"true\")\n",
    "               .csv('../datasets/USvideos.csv')\n",
    "             )\n",
    "videos.show()"
   ]
  },
  {
   "cell_type": "code",
   "execution_count": 6,
   "id": "805005cc-0c92-45e3-ab79-44a348f9c2d3",
   "metadata": {},
   "outputs": [
    {
     "name": "stdout",
     "output_type": "stream",
     "text": [
      "+-------------+--------------------+-------------+---------------+\n",
      "|comm_video_id|        comment_text|comment_likes|comment_replies|\n",
      "+-------------+--------------------+-------------+---------------+\n",
      "|  XpVt6Z1Gjjo|Logan Paul it's y...|            4|              0|\n",
      "|  XpVt6Z1Gjjo|I've been followi...|            3|              0|\n",
      "|  XpVt6Z1Gjjo|Say hi to Kong an...|            3|              0|\n",
      "|  XpVt6Z1Gjjo| MY FAN . attendance|            3|              0|\n",
      "|  XpVt6Z1Gjjo|         trending 😉|            3|              0|\n",
      "|  XpVt6Z1Gjjo|#1 on trending AY...|            3|              0|\n",
      "|  XpVt6Z1Gjjo|The end though 😭...|            4|              0|\n",
      "|  XpVt6Z1Gjjo|#1 trending!!!!!!!!!|            3|              0|\n",
      "|  XpVt6Z1Gjjo|Happy one year vl...|            3|              0|\n",
      "|  XpVt6Z1Gjjo|You and your shit...|            0|              0|\n",
      "|  XpVt6Z1Gjjo|There should be a...|            0|              0|\n",
      "|  XpVt6Z1Gjjo|Dear Logan, I rea...|            0|              0|\n",
      "|  XpVt6Z1Gjjo|Honestly Evan is ...|            0|              0|\n",
      "|  XpVt6Z1Gjjo|Casey is still be...|            0|              0|\n",
      "|  XpVt6Z1Gjjo|aw geez rick this...|            0|              0|\n",
      "|  XpVt6Z1Gjjo|He happy cause he...|            0|              0|\n",
      "|  XpVt6Z1Gjjo|Ayyyyoooo Logang ...|            1|              0|\n",
      "|  XpVt6Z1Gjjo|Bro y didnt u giv...|            0|              0|\n",
      "|  XpVt6Z1Gjjo|It's been fun wat...|            3|              0|\n",
      "|  XpVt6Z1Gjjo|Made a lot of peo...|            0|              0|\n",
      "+-------------+--------------------+-------------+---------------+\n",
      "only showing top 20 rows\n",
      "\n"
     ]
    }
   ],
   "source": [
    "comments_schema = StructType([ \\\n",
    "    StructField(\"comm_video_id\", StringType(), True), \\\n",
    "    StructField(\"comment_text\", StringType(), True), \\\n",
    "    StructField(\"comment_likes\", IntegerType(), True), \\\n",
    "    StructField(\"comment_replies\", IntegerType(), True)])\n",
    "comments = (spark.read\n",
    "                    .option('header', 'true')\n",
    "                    .option(\"mode\", \"DROPMALFORMED\")\n",
    "                    .schema(comments_schema)\n",
    "                    .csv('../datasets/UScomments.csv'))\n",
    "comments.show()"
   ]
  },
  {
   "cell_type": "markdown",
   "id": "0065f935-cce0-46f1-a467-2f79465e6abb",
   "metadata": {},
   "source": [
    "### 1. scored_videos"
   ]
  },
  {
   "cell_type": "code",
   "execution_count": 7,
   "id": "cfe93bba-cfcd-422d-a89e-ac8437b425a6",
   "metadata": {},
   "outputs": [],
   "source": [
    "# Датасет на основе файла USvideos.csv с добавлением колонки, содержащей скор (показатель качества) видео.\n",
    "# Никто не знает, как считать скор, поэтому формулу предлагается придумать вам.\n",
    "# Но она должна включать в себя просмотры, лайки, дизлайки видео, лайки и дизлайки к комментариям к этому видео."
   ]
  },
  {
   "cell_type": "code",
   "execution_count": 8,
   "id": "849bbf4d-6a49-4a38-8f51-88e2d96b9b79",
   "metadata": {},
   "outputs": [],
   "source": [
    "# Выбираем бакетирование потому что у нас достаточно бальшие датасеты(оба) а партиционирование по ID не выполняется\n",
    "# Создаем бакеты. Только я не понял, как правильно выбрать кол-во бакетов ?\n",
    "# Папки с данными не удаляются из spark-warehouse, проще в терминале сносить rm -r 'spark-warehouse'\n",
    "(comments.write\n",
    "     .bucketBy(25, \"comm_video_id\")\n",
    "     .saveAsTable(\"comments_bucketed2\", format = 'csv', mode = 'overwrite') )\n",
    "\n",
    "(videos.write\n",
    "     .bucketBy(25, \"video_id\")\n",
    "     .saveAsTable(\"videos_bucketed2\", format = 'csv', mode = 'overwrite') )"
   ]
  },
  {
   "cell_type": "code",
   "execution_count": 9,
   "id": "55b43742-5afe-4d68-a6d7-9c47fd0951aa",
   "metadata": {},
   "outputs": [],
   "source": [
    "comments_bucketed = spark.table(\"comments_bucketed2\")\n",
    "videos_bucketed = spark.table(\"videos_bucketed2\")\n",
    "\n",
    "video_and_comm = comments_bucketed.join(videos_bucketed, comments_bucketed.comm_video_id == videos_bucketed.video_id)"
   ]
  },
  {
   "cell_type": "code",
   "execution_count": 10,
   "id": "c7495962-394a-4ffe-998b-259ca0b04c6a",
   "metadata": {},
   "outputs": [],
   "source": [
    "# Функция для расчета скора\n",
    "def score_func(likes: pd.Series\n",
    "                , dislikes: pd.Series\n",
    "                , views: pd.Series\n",
    "                , comment_likes: pd.Series\n",
    "                , comment_replies: pd.Series\n",
    "                , comment_total: pd.Series) -> pd.Series:\n",
    "    # (видео:(лайки - дизлайки)/просмотры + комментарии: (лайки + ответы на комментарии)/общее кол-во комментариев ) / 2\n",
    "    # (likes - dislikes)/views) + (comment_likes + comment_replies  / comment_total) / 2\n",
    "    return ((likes + comment_likes + comment_replies + comment_total) - dislikes)/views\n",
    "    # ( ((likes - dislikes)/views) + (comment_likes + (comment_replies  / comment_total)) ) / 2\n",
    "multiply = pandas_udf(score_func, returnType=DoubleType())"
   ]
  },
  {
   "cell_type": "code",
   "execution_count": 11,
   "id": "482b465d-34f4-4c13-82cc-11b78a75ed01",
   "metadata": {},
   "outputs": [],
   "source": [
    "# Агрегируем\n",
    "video_and_comm_gr = (video_and_comm.groupBy(\"video_id\", \"category_id\", \"tags\")\n",
    "                                    .agg(\n",
    "                                        sum(\"likes\").alias(\"likes\")\n",
    "                                      , sum(\"dislikes\").alias(\"dislikes\")\n",
    "                                      , sum(\"views\").alias(\"views\")\n",
    "                                      , sum(\"comment_likes\").alias(\"comment_likes\")\n",
    "                                      , sum(\"comment_replies\").alias(\"comment_replies\")\n",
    "                                      , sum(\"comment_total\").alias(\"comment_total\")\n",
    "                                    )\n",
    "                                )"
   ]
  },
  {
   "cell_type": "code",
   "execution_count": 12,
   "id": "6e5ccd4b-a480-407a-acd0-926a07a65d49",
   "metadata": {},
   "outputs": [
    {
     "name": "stdout",
     "output_type": "stream",
     "text": [
      "+-----------+-----------+--------------------+---------+--------+----------+-------------+---------------+-------------+--------------------+\n",
      "|   video_id|category_id|                tags|    likes|dislikes|     views|comment_likes|comment_replies|comment_total|               score|\n",
      "+-----------+-----------+--------------------+---------+--------+----------+-------------+---------------+-------------+--------------------+\n",
      "|-QL9dvmddYs|         23|Jolly|JOLLY|jolly...| 59100400|  317200|1161168400|          168|             24|      8225200| 0.05770790179960116|\n",
      "|-UAdFerZMWc|         24|lego|lego star wa...|   404085|   13035|  10344180|         1936|            198|        49335| 0.04277951466428465|\n",
      "|0R7MQwmbiQc|          1|jaiden|animations...|225604575|  927276|3219444018|       726220|           8064|     43480227|  0.0835211944971301|\n",
      "|0qfgZJNCCJQ|         22|ranz|ranz kyle|ni...| 40423600|  406000| 550939600|          236|              4|      3565200| 0.07910674781772811|\n",
      "|1u5jO57eD-U|         24|James Corden|The ...|175871400| 3457800|7807259400|          785|            150|      4585200|0.022671173830857982|\n",
      "+-----------+-----------+--------------------+---------+--------+----------+-------------+---------------+-------------+--------------------+\n",
      "only showing top 5 rows\n",
      "\n"
     ]
    }
   ],
   "source": [
    "video_and_comm_gr = video_and_comm_gr.withColumn(\"score\", multiply(col(\"likes\"),col(\"dislikes\"),col(\"views\")\n",
    "                                                                   ,col(\"comment_likes\"),col(\"comment_replies\"),col(\"comment_total\")))\n",
    "video_and_comm_gr.show(5)"
   ]
  },
  {
   "cell_type": "markdown",
   "id": "7a7a80e5-8bb3-4fa0-bfbc-adb619a8d989",
   "metadata": {},
   "source": [
    "### 2. categories_score"
   ]
  },
  {
   "cell_type": "code",
   "execution_count": 13,
   "id": "6ef31cf5-5938-4620-8c03-ceefed9cfa63",
   "metadata": {},
   "outputs": [],
   "source": [
    "# Датасет по категориям, в котором присутствуют следующие поля: Название категории (не id, он непонятный для аналитиков!) \n",
    "# - можно найти в файле US_category_id.json . Медиана показателя score из датасета scored_videos по каждой категории."
   ]
  },
  {
   "cell_type": "code",
   "execution_count": 18,
   "id": "0bdfc351-f93b-4ac9-bd6a-7255c0e9a96b",
   "metadata": {},
   "outputs": [
    {
     "name": "stdout",
     "output_type": "stream",
     "text": [
      "+-----------+-----------+--------------------+----------+--------+-----------+-------------+---------------+-------------+--------------------+-----------+----------------+\n",
      "|   video_id|category_id|                tags|     likes|dislikes|      views|comment_likes|comment_replies|comment_total|               score|category_id|  category_title|\n",
      "+-----------+-----------+--------------------+----------+--------+-----------+-------------+---------------+-------------+--------------------+-----------+----------------+\n",
      "|-QL9dvmddYs|         23|Jolly|JOLLY|jolly...|  59100400|  317200| 1161168400|          168|             24|      8225200| 0.05770790179960116|         23|          Comedy|\n",
      "|-UAdFerZMWc|         24|lego|lego star wa...|    404085|   13035|   10344180|         1936|            198|        49335| 0.04277951466428465|         24|   Entertainment|\n",
      "|0R7MQwmbiQc|          1|jaiden|animations...| 225604575|  927276| 3219444018|       726220|           8064|     43480227|  0.0835211944971301|          1|Film & Animation|\n",
      "|0qfgZJNCCJQ|         22|ranz|ranz kyle|ni...|  40423600|  406000|  550939600|          236|              4|      3565200| 0.07910674781772811|         22|  People & Blogs|\n",
      "|1u5jO57eD-U|         24|James Corden|The ...| 175871400| 3457800| 7807259400|          785|            150|      4585200|0.022671173830857982|         24|   Entertainment|\n",
      "|2qiBTkVRp1U|         22|itsgrace|funny|co...|  32939500|  304500|  617092000|          385|             45|      1234000| 0.05488554380870275|         22|  People & Blogs|\n",
      "|4yCkkOvIkUI|         24|              [none]|      1121|     817|     245195|          108|             12|          475|0.003666469544648...|         24|   Entertainment|\n",
      "|5DG26XDPpB8|         27|Grass Rope|Surviv...|   1683400|   13800|   31979400|          248|             48|       143600| 0.05670825593976122|         27|       Education|\n",
      "|5IG15ff4Zkk|         17|           Bob Davie|       528|      84|      87924|           28|             20|          336|0.009417223966152586|         17|          Sports|\n",
      "|5LXqVd_0cjs|         24|niana|guerrero|ra...|   8651300|  188200|  207949000|           13|              0|       449500| 0.04285960980817412|         24|   Entertainment|\n",
      "|5mdk5oz6l3w|         43|Google|Pixel 2|Sq...|      9000|     680|     679400|          222|             34|         2960|0.016979687959964674|         43|           Shows|\n",
      "|6FgoZiTT52w|         26|rainbow|unicorn|p...|  36336000|  526000|  768173600|          220|              4|      7870000| 0.05686243838632309|         26|   Howto & Style|\n",
      "|7TN09IP5JuI|         26|First we feast|fw...| 434546000| 4427500|10392502500|          170|              0|     57350500|0.046905850636071535|         26|   Howto & Style|\n",
      "|8WyDjXSLg88|         24|burning man|burni...| 104075600| 2944400| 1599927600|          180|             16|      8550000| 0.06855397456734917|         24|   Entertainment|\n",
      "|8hAdOYDoo4c|         24|Taylor|Swift|gave...| 280034000| 6407600| 8588324800|          336|             72|      8441200| 0.03284319288902534|         24|   Entertainment|\n",
      "|8ijNvyEbQ_g|         24|abc|dancing|stars...|     25193|     915|     574986|          475|              8|         4941| 0.05165690990737166|         24|   Entertainment|\n",
      "|8ropWor8aAM|         24|America's Got Tal...|   1665900|   53800|   48014000|           30|              0|       212100|0.037993710167867706|         24|   Entertainment|\n",
      "|APHgDFRpCi0|         10|Balvin|Willy|Will...|  76669600| 3238200|  875629300|          215|            141|      7884100| 0.09286561790474576|         10|           Music|\n",
      "|APHgDFRpCi0|         10|Balvin|Willy|Will...|1614469500|82751200|45300955700|         1290|            846|    129505600| 0.03667088277345107|         10|           Music|\n",
      "|Bo-qp-Zu0OY|         19|talking mickey|ta...|      3938|      22|     476388|           71|              8|          660|0.009771446803865757|         19| Travel & Events|\n",
      "+-----------+-----------+--------------------+----------+--------+-----------+-------------+---------------+-------------+--------------------+-----------+----------------+\n",
      "only showing top 20 rows\n",
      "\n"
     ]
    }
   ],
   "source": [
    "# тут фрейм по категория маленький и по условиям его можно поместить в broadcast\n",
    "category_res_br = broadcast(category_res)\n",
    "\n",
    "sdf_categ_med = video_and_comm_gr.join(category_res_br, video_and_comm_gr.category_id == category_res_br.category_id)\n",
    "sdf_categ_med.show()"
   ]
  },
  {
   "cell_type": "code",
   "execution_count": 19,
   "id": "795e5582-46e9-4d70-a167-cbf7ff0dbd8b",
   "metadata": {},
   "outputs": [],
   "source": [
    "# UDF для медианы\n",
    "@pandas_udf(\"double\", PandasUDFType.GROUPED_AGG)\n",
    "def median_udf(v):\n",
    "    return v.median()"
   ]
  },
  {
   "cell_type": "code",
   "execution_count": 20,
   "id": "11ddd454-a145-45ee-bff2-70895ff75878",
   "metadata": {},
   "outputs": [
    {
     "name": "stdout",
     "output_type": "stream",
     "text": [
      "+---------------+--------------------+\n",
      "|category_title |median_udf(score)   |\n",
      "+---------------+--------------------+\n",
      "|Shows          |0.016979687959964674|\n",
      "|Education      |0.038062898359452195|\n",
      "|Gaming         |0.023096633509649425|\n",
      "|Entertainment  |0.022277975638122213|\n",
      "|Travel & Events|0.02704722125536605 |\n",
      "+---------------+--------------------+\n",
      "only showing top 5 rows\n",
      "\n"
     ]
    }
   ],
   "source": [
    "# Считаем медиану\n",
    "sdf_categ_med.groupby(\"category_title\").agg(median_udf(\"score\")).show(5, False)"
   ]
  },
  {
   "cell_type": "markdown",
   "id": "8d7350e9-bf29-4262-a45e-441cca7385b0",
   "metadata": {},
   "source": [
    "### 3. popular_tags "
   ]
  },
  {
   "cell_type": "code",
   "execution_count": 21,
   "id": "bb16fabf-afa0-4d5f-9aaa-0cdc84e934fe",
   "metadata": {},
   "outputs": [],
   "source": [
    "# Датасет по самым популярным тэгам (название тэга + количество видео с этим тэгом). В исходном датасете тэги лежат строкой в поле tags.\n",
    "# Другие разработчики уже сталкивались с подобной задачей, поэтому написали Scala-функцию для разбиения\n",
    "# тегов (код функции - в разделе Примечания). Но не доверяйте им вслепую! Обязательно напишите свою UDF-функцию разбиения\n",
    "# строки на тэги и сравните время работы с её Scala-версией. Можно замерять своими силами, а можно воспользоваться библиотекой timeit. \n",
    "# Стандартные функции Spark из пакета pyspark.sq.functions использовать нельзя, нужно написать свою функцию."
   ]
  },
  {
   "cell_type": "code",
   "execution_count": 22,
   "id": "d2e9ab10-0ed3-445a-b350-5c663535be7a",
   "metadata": {},
   "outputs": [],
   "source": [
    "# функция для разбиения тегов\n",
    "@pandas_udf('array<string>', PandasUDFType.SCALAR) \n",
    "def split_msg(string): \n",
    "    msg_ = string.str.split(\"\\\\|\") \n",
    "    return msg_"
   ]
  },
  {
   "cell_type": "code",
   "execution_count": 23,
   "id": "b0e0b019-cefd-40ea-a637-11bcc59b4e59",
   "metadata": {},
   "outputs": [
    {
     "name": "stdout",
     "output_type": "stream",
     "text": [
      "+------+---------+\n",
      "|tag_nm|video_qty|\n",
      "+------+---------+\n",
      "| funny|      722|\n",
      "|comedy|      572|\n",
      "|[none]|      491|\n",
      "|  2017|      309|\n",
      "|how to|      284|\n",
      "+------+---------+\n",
      "only showing top 5 rows\n",
      "\n"
     ]
    }
   ],
   "source": [
    "sdf_tags = videos.select(\"video_id\",explode(split_msg(\"tags\")).alias(\"tag_nm\"))\n",
    "sdf_tags_gr = (sdf_tags.groupBy(\"tag_nm\")\n",
    "                            .agg(count(\"video_id\")\n",
    "                                 .alias(\"video_qty\")))\n",
    "sdf_tags_gr.orderBy(col(\"video_qty\").desc()).show(5)"
   ]
  },
  {
   "cell_type": "code",
   "execution_count": 26,
   "id": "43801af7-f2b6-4424-a379-734df2c4f0ba",
   "metadata": {},
   "outputs": [],
   "source": [
    "# UDF Scala не понял как загружать и создавать. \n",
    "# Не уверен что мне это вообще когда-то понадобится в роли аналитика, да и Scala я не знаю))\n",
    "# Егор, если есть возможность, можешь пояснить порядок действий"
   ]
  },
  {
   "cell_type": "markdown",
   "id": "11fa2394-0a28-403a-a597-5f35cf62b395",
   "metadata": {},
   "source": [
    "### 4. Личная просьба от Марка"
   ]
  },
  {
   "cell_type": "code",
   "execution_count": 27,
   "id": "c2a00f8d-5cf3-45fc-b64e-3c81f92ad2a2",
   "metadata": {},
   "outputs": [],
   "source": [
    "# он любит котов (а кто не их не любит!) и хочет найти самые интересные комментарии (топ-5) к видео про котов.\n",
    "# “Видео про котов” - видео, у которого есть тэг “cat”."
   ]
  },
  {
   "cell_type": "code",
   "execution_count": 24,
   "id": "3c916796-3d00-4b37-aecb-2efe39f9b5f2",
   "metadata": {},
   "outputs": [
    {
     "data": {
      "text/plain": [
       "13"
      ]
     },
     "execution_count": 24,
     "metadata": {},
     "output_type": "execute_result"
    }
   ],
   "source": [
    "# Находим видео с тегом про котов и сохраняем в отдельный сет\n",
    "# sdf_cat_tag = sdf_tags.where(col(\"tag_nm\").like('% cat %'))\n",
    "sdf_cat_tag = (sdf_tags.where(col(\"tag_nm\") == 'cat')\n",
    "                       .select(\"video_id\").distinct()\n",
    "              )\n",
    "sdf_cat_tag.count()"
   ]
  },
  {
   "cell_type": "code",
   "execution_count": 25,
   "id": "e2ca7168-9a56-44ba-bdc7-8afa608de09f",
   "metadata": {},
   "outputs": [
    {
     "name": "stdout",
     "output_type": "stream",
     "text": [
      "+----------------------------------------------------------------------------------+\n",
      "|comment_text                                                                      |\n",
      "+----------------------------------------------------------------------------------+\n",
      "|The second I read this title in my notification, I started to giggle.             |\n",
      "|talk about the ocean sunfish build                                                |\n",
      "|talk about the ocean sunfish build                                                |\n",
      "|talk about the ocean sunfish build                                                |\n",
      "|I make interesting cartoons and I need your help! Go to the channel, rate my work!|\n",
      "+----------------------------------------------------------------------------------+\n",
      "only showing top 5 rows\n",
      "\n"
     ]
    }
   ],
   "source": [
    "# Фрейм с данными по нужному видео получился маленьким, поэтому снова broadcast\n",
    "sdf_cat_tag_br = broadcast(sdf_cat_tag)\n",
    "(comments.join(sdf_cat_tag_br, comments.comm_video_id == sdf_cat_tag.video_id)\n",
    "         .orderBy(col(\"comment_likes\").desc())\n",
    "         .select(\"comment_text\")\n",
    "         .show(5, False)\n",
    ")"
   ]
  },
  {
   "cell_type": "code",
   "execution_count": null,
   "id": "01273886-7fef-4d16-8971-a0fec8e9d972",
   "metadata": {},
   "outputs": [],
   "source": []
  },
  {
   "cell_type": "code",
   "execution_count": null,
   "id": "8ada7865-d98b-4b09-aa01-4968b964e245",
   "metadata": {},
   "outputs": [],
   "source": []
  }
 ],
 "metadata": {
  "kernelspec": {
   "display_name": "Python 3 (ipykernel)",
   "language": "python",
   "name": "python3"
  },
  "language_info": {
   "codemirror_mode": {
    "name": "ipython",
    "version": 3
   },
   "file_extension": ".py",
   "mimetype": "text/x-python",
   "name": "python",
   "nbconvert_exporter": "python",
   "pygments_lexer": "ipython3",
   "version": "3.11.4"
  }
 },
 "nbformat": 4,
 "nbformat_minor": 5
}
